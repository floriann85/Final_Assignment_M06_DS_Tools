{
 "cells": [
  {
   "cell_type": "markdown",
   "id": "7fa43f47-a327-4c5a-853d-f2d30bc19cc6",
   "metadata": {},
   "source": [
    "# Data Science Tools and Ecosystem"
   ]
  },
  {
   "cell_type": "markdown",
   "id": "2229a8ed-4d9f-440f-b995-82891e291632",
   "metadata": {},
   "source": [
    "In this notebook, Data Science Tools and Ecosystem are summarized."
   ]
  },
  {
   "cell_type": "markdown",
   "id": "7b6e1a44-2fad-490f-874b-2e53143126d6",
   "metadata": {},
   "source": [
    "Some of the popular languages that Data Scientists use are:\n",
    "1. Python\n",
    "2. R\n",
    "3. Julia\n",
    "4. Scala"
   ]
  },
  {
   "cell_type": "markdown",
   "id": "f2254d03-968b-43bb-a0b0-ece01afc638b",
   "metadata": {},
   "source": [
    "Some of the commonly used libraries used by Data Scientists include:\n",
    "1. NumPy\n",
    "2. Pandas\n",
    "3. Matplotlib\n",
    "4. Scikit-learn\n",
    "5. TensorFlow"
   ]
  },
  {
   "cell_type": "markdown",
   "id": "0e59f532-0c5a-4ced-8746-aa63c746f9c1",
   "metadata": {},
   "source": [
    "| Data Science Tools |\n",
    "|--------------------|\n",
    "| Jupyter Notebook  |\n",
    "| RStudio           |\n",
    "| Spyder            |\n",
    "| Apache Zeppelin   |"
   ]
  },
  {
   "cell_type": "markdown",
   "id": "5fd73257-8c34-4b5b-a6b9-fe96727ca2a5",
   "metadata": {},
   "source": [
    "### Below are a few examples of evaluating arithmetic expressions in Python"
   ]
  },
  {
   "cell_type": "code",
   "execution_count": 5,
   "id": "336857e7-1f2a-4eee-82a0-1ca0fb7be3fc",
   "metadata": {},
   "outputs": [
    {
     "name": "stdout",
     "output_type": "stream",
     "text": [
      "17\n"
     ]
    }
   ],
   "source": [
    "# This a simple arithemic expression to mutiply then add integers.\n",
    "print((3 * 4) + 5)"
   ]
  },
  {
   "cell_type": "code",
   "execution_count": 7,
   "id": "d933ccf4-8e52-4181-94f4-0398197c857c",
   "metadata": {},
   "outputs": [
    {
     "name": "stdout",
     "output_type": "stream",
     "text": [
      "3\n"
     ]
    }
   ],
   "source": [
    "# This will convert 200 minutes to hours by diving by 60\n",
    "print(200 // 60)"
   ]
  },
  {
   "cell_type": "markdown",
   "id": "e357b7d7-3165-4504-b148-d2da7ff4dc2a",
   "metadata": {},
   "source": [
    "**Objectives:**\n",
    "- List popular languages for Data Science\n",
    "- Understand basic programming concepts\n",
    "- Explore different data visualization techniques\n",
    "- Learn how to preprocess data for analysis\n",
    "- Apply machine learning models to data"
   ]
  },
  {
   "cell_type": "markdown",
   "id": "05e1d7f2-fa40-4a74-81b4-35da786fc517",
   "metadata": {},
   "source": [
    "## Author\n",
    "Florian Nolte"
   ]
  },
  {
   "cell_type": "code",
   "execution_count": null,
   "id": "9806f665-2fab-4457-8f7a-f8bdc55b52ed",
   "metadata": {},
   "outputs": [],
   "source": []
  }
 ],
 "metadata": {
  "kernelspec": {
   "display_name": "Python 3 (ipykernel)",
   "language": "python",
   "name": "python3"
  },
  "language_info": {
   "codemirror_mode": {
    "name": "ipython",
    "version": 3
   },
   "file_extension": ".py",
   "mimetype": "text/x-python",
   "name": "python",
   "nbconvert_exporter": "python",
   "pygments_lexer": "ipython3",
   "version": "3.12.8"
  }
 },
 "nbformat": 4,
 "nbformat_minor": 5
}
